{
 "cells": [
  {
   "cell_type": "code",
   "execution_count": 1,
   "metadata": {},
   "outputs": [],
   "source": [
    "import numpy as np\n",
    "import requests\n",
    "import json\n",
    "from datetime import datetime\n",
    "from collections import deque\n",
    "import inspect"
   ]
  },
  {
   "cell_type": "markdown",
   "metadata": {},
   "source": [
    "# Block-driven architecture "
   ]
  },
  {
   "cell_type": "code",
   "execution_count": 2,
   "metadata": {},
   "outputs": [],
   "source": [
    "def get_blocks_heights_in_last_n_hours(n: int):\n",
    "    \n",
    "    response = requests.get(url='https://api.bitaps.com/btc/v1/blockchain/blocks/last/'+str(n)+'/hours')\n",
    "    json_data = json.loads(response.text)\n",
    "    data = json_data['data']\n",
    "    \n",
    "    blocks_heights = [element['height'] for element in data]\n",
    "    \n",
    "    return blocks_heights"
   ]
  },
  {
   "cell_type": "code",
   "execution_count": 3,
   "metadata": {},
   "outputs": [],
   "source": [
    "def initialize_metrics(size_in_blocks):\n",
    "    \n",
    "    fee_queue = deque([0]*size_in_blocks, size_in_blocks)\n",
    "    block_pow_queue = deque([600]*size_in_blocks, size_in_blocks)\n",
    "    cval_queue = deque([0]*size_in_blocks, size_in_blocks)\n",
    "    txs_queue = deque([0]*size_in_blocks, size_in_blocks)\n",
    "    unsigned_txs_queue = deque([0]*size_in_blocks, size_in_blocks)\n",
    "    \n",
    "    queues = {\n",
    "        'fee':fee_queue,\n",
    "        'block_pow':block_pow_queue,\n",
    "        'cval':cval_queue,\n",
    "        'txs_count':txs_queue,\n",
    "        'unsigned_txs':unsigned_txs_queue\n",
    "    } \n",
    "    \n",
    "    metrics = {\n",
    "        'fee':{'avg':0, 'min':np.inf, 'max':-np.inf, 'sum':0},\n",
    "        'block_pow':{'tau':600, 'avg':0, 'min':np.inf, 'max':-np.inf, 'sum':600*size_in_blocks},\n",
    "        'cval':{'avg':0, 'min':np.inf, 'max':-np.inf, 'sum':0},\n",
    "        'txs_count':{'avg':0, 'min':np.inf, 'max':-np.inf, 'sum':0},\n",
    "        'unsigned_txs':{'avg':0, 'min':np.inf, 'max':-np.inf, 'sum':0}\n",
    "    }\n",
    "    \n",
    "    metrics_dict = {\n",
    "        'queues': queues,\n",
    "        'metrics': metrics,\n",
    "        'size':size_in_blocks,\n",
    "    }\n",
    "    \n",
    "    return metrics_dict"
   ]
  },
  {
   "cell_type": "code",
   "execution_count": 4,
   "metadata": {},
   "outputs": [],
   "source": [
    "heights = get_blocks_heights_in_last_n_hours(2)"
   ]
  },
  {
   "cell_type": "code",
   "execution_count": 5,
   "metadata": {},
   "outputs": [],
   "source": [
    "metrics = initialize_metrics(5)"
   ]
  },
  {
   "cell_type": "code",
   "execution_count": 6,
   "metadata": {},
   "outputs": [],
   "source": [
    "def update_metrics(old_metrics: dict, new_blocks_heights: list):\n",
    "    \n",
    "        \n",
    "    def get_name(variable):\n",
    "\n",
    "#         for fi in reversed(inspect.stack()):\n",
    "#             names = [var_name for var_name, var_val in fi.frame.f_locals.items() if var_val is var]\n",
    "#             if len(names) > 0:\n",
    "#                 return names[0]\n",
    "#         return (list(globals().keys()))[list(map(lambda x: id(x), list(globals().values()))).index(id(variable))]\n",
    "        return(Retriever(variable))\n",
    "            \n",
    "    def get_unsigned_transaction_number():\n",
    "    \n",
    "        response = requests.get(url=\"https://blockchain.info/q/unconfirmedcount\")\n",
    "        count = json.loads(response.text)\n",
    "\n",
    "        return count\n",
    "    \n",
    "    def get_block_info(block_height: int):\n",
    "    \n",
    "        url = 'https://api.blockchair.com/bitcoin/blocks?q=id(' + str(block_height) + ')'\n",
    "\n",
    "        response = requests.get(url=url)\n",
    "        json_data = json.loads(response.text)\n",
    "        block = json_data['data'][0]\n",
    "\n",
    "        # for Average interval between blocks pow\n",
    "        time = datetime.strptime(block['time'],'%Y-%m-%d %H:%M:%S')\n",
    "        # Miners fees\n",
    "        fee = (block['fee_total'], block['fee_total_usd'])\n",
    "        # Number of Transactions in a block\n",
    "        txs_count = block['transaction_count']\n",
    "        # Crypto-value in a block\n",
    "        input_total = (block['input_total'],block['input_total_usd'])\n",
    "\n",
    "        result = {\n",
    "            'time':time,\n",
    "#             'fee':{\n",
    "#                 'satoshi':fee[0],\n",
    "#                 'usd':fee[1]\n",
    "#             },\n",
    "            'fee':fee[0],\n",
    "            'txs_count':txs_count,\n",
    "#             'input_total':{\n",
    "#                 'satoshi':input_total[0],\n",
    "#                 'usd':input_total[1]\n",
    "#             }\n",
    "            'input_total':input_total[0]\n",
    "        }\n",
    "\n",
    "        return result\n",
    "\n",
    "\n",
    "    def update_metrics_dict(new_metrics: list, metrics_dict:dict):\n",
    "\n",
    "        name_map = {\n",
    "            'fee':{'queues':'fee', 'metrics':'fee'},\n",
    "            'time':{'queues':'block_pow', 'metrics':'block_pow'},\n",
    "            'inpit_total':{'queues':'cval', 'metrics':'cval'},\n",
    "            'txs_count':{'queues':'txs_count', 'metrics':'txs_count'},\n",
    "            'unsigned_txs':{'queues':'unsigned_txs', 'metrics':'unsigned_txs'}\n",
    "        }\n",
    "        \n",
    "        metrics_names_list = ['fee', 'time', 'inpit_total', 'txs_count', 'unsigned_txs']\n",
    "        \n",
    "\n",
    "        for idx, metric in enumerate(new_metrics):\n",
    "\n",
    "            metric_name = metrics_names_list[idx]\n",
    "            queue_name_map = name_map[metric_name]['queues']\n",
    "            metric_name_map = name_map[metric_name]['metrics']\n",
    "            metrics = metrics_dict['metrics'][metric_name_map]\n",
    "            size = metrics_dict['size']\n",
    "\n",
    "            poped = metrics_dict['queues'][queue_name_map].popleft()\n",
    "            metrics_dict['queues'][queue_name_map].append(metric)\n",
    "            metrics['sum'] -= poped\n",
    "            metrics['sum'] += metric\n",
    "            if metric < metrics['min']: \n",
    "                metrics['min'] = metric\n",
    "            if metric > metrics['max']:\n",
    "                metrics['max'] = metric\n",
    "            metrics['avg'] = metrics['sum'] / size\n",
    "\n",
    "            if 'tau' in metrics.keys():\n",
    "\n",
    "                tau = metrics['tau']\n",
    "                \n",
    "                denominator = size / tau\n",
    "                denominator += (1/metric - 1/poped)\n",
    "                tau = size / denominator\n",
    "\n",
    "                metrics['tau'] = tau\n",
    "\n",
    "            metrics_dict['metrics'][metric_name_map] = metrics\n",
    "\n",
    "        return metrics_dict\n",
    "\n",
    "\n",
    "    for block_height in sorted(new_blocks_heights, reverse=False):\n",
    "        \n",
    "        print(block_height)\n",
    "        \n",
    "        block_info = get_block_info(block_height)\n",
    "        \n",
    "        fee = block_info['fee']\n",
    "        time = (block_info['time'] - get_block_info(block_height-1)['time']).seconds\n",
    "        inpit_total = block_info['input_total']\n",
    "        txs_count = block_info['txs_count']\n",
    "        unsigned_txs = get_unsigned_transaction_number()\n",
    "        \n",
    "        new_metrics = [fee, time, inpit_total, txs_count, unsigned_txs]\n",
    "        \n",
    "        updated_metrics_dict = update_metrics_dict(new_metrics, old_metrics)\n",
    "        \n",
    "    return updated_metrics_dict\n",
    "        \n",
    "    "
   ]
  },
  {
   "cell_type": "code",
   "execution_count": 7,
   "metadata": {},
   "outputs": [
    {
     "name": "stdout",
     "output_type": "stream",
     "text": [
      "621856\n",
      "621857\n",
      "621858\n",
      "621859\n",
      "621860\n",
      "621861\n",
      "621862\n",
      "621863\n"
     ]
    }
   ],
   "source": [
    "updated = update_metrics(metrics, heights)"
   ]
  },
  {
   "cell_type": "code",
   "execution_count": 8,
   "metadata": {},
   "outputs": [
    {
     "data": {
      "text/plain": [
       "{'queues': {'fee': deque([75121965, 75565393, 87938781, 68987478, 70550438]),\n",
       "  'block_pow': deque([610, 637, 1906, 158, 377]),\n",
       "  'cval': deque([1613734585061,\n",
       "         1795215974118,\n",
       "         3415373224189,\n",
       "         1508623014111,\n",
       "         1880613322437]),\n",
       "  'txs_count': deque([2360, 1985, 2773, 2506, 1611]),\n",
       "  'unsigned_txs': deque([22916, 22916, 22916, 22916, 22916])},\n",
       " 'metrics': {'fee': {'avg': 75632811.0,\n",
       "   'min': 68987478,\n",
       "   'max': 96090110,\n",
       "   'sum': 378164055},\n",
       "  'block_pow': {'tau': 393.2210031407934,\n",
       "   'avg': 737.6,\n",
       "   'min': 158,\n",
       "   'max': 2670,\n",
       "   'sum': 3688},\n",
       "  'cval': {'avg': 2042712023983.2,\n",
       "   'min': 1508623014111,\n",
       "   'max': 3582078633905,\n",
       "   'sum': 10213560119916},\n",
       "  'txs_count': {'avg': 2247.0, 'min': 1611, 'max': 3044, 'sum': 11235},\n",
       "  'unsigned_txs': {'avg': 22916.0, 'min': 22916, 'max': 22916, 'sum': 114580}},\n",
       " 'size': 5}"
      ]
     },
     "execution_count": 8,
     "metadata": {},
     "output_type": "execute_result"
    }
   ],
   "source": [
    "updated"
   ]
  }
 ],
 "metadata": {
  "kernelspec": {
   "display_name": "Python 3",
   "language": "python",
   "name": "python3"
  },
  "language_info": {
   "codemirror_mode": {
    "name": "ipython",
    "version": 3
   },
   "file_extension": ".py",
   "mimetype": "text/x-python",
   "name": "python",
   "nbconvert_exporter": "python",
   "pygments_lexer": "ipython3",
   "version": "3.6.4"
  }
 },
 "nbformat": 4,
 "nbformat_minor": 2
}
