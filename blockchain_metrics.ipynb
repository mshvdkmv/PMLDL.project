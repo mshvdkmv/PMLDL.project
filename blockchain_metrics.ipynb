{
 "cells": [
  {
   "cell_type": "code",
   "execution_count": 1,
   "metadata": {},
   "outputs": [],
   "source": [
    "import numpy as np\n",
    "import requests\n",
    "import json\n",
    "from datetime import datetime\n",
    "from collections import deque\n",
    "import inspect"
   ]
  },
  {
   "cell_type": "markdown",
   "metadata": {},
   "source": [
    "# Block-driven architecture "
   ]
  },
  {
   "cell_type": "code",
   "execution_count": 2,
   "metadata": {},
   "outputs": [],
   "source": [
    "def get_blocks_heights_in_last_n_hours(n: int):\n",
    "    \n",
    "    response = requests.get(url='https://api.bitaps.com/btc/v1/blockchain/blocks/last/'+str(n)+'/hours')\n",
    "    json_data = json.loads(response.text)\n",
    "    data = json_data['data']\n",
    "    \n",
    "    blocks_heights = [element['height'] for element in data]\n",
    "    \n",
    "    return blocks_heights"
   ]
  },
  {
   "cell_type": "code",
   "execution_count": 37,
   "metadata": {},
   "outputs": [],
   "source": [
    "def initialize_metrics(size_in_blocks):\n",
    "    \n",
    "    fee_queue = deque([0]*size_in_blocks, size_in_blocks)\n",
    "    block_pow_queue = deque([600]*size_in_blocks, size_in_blocks)\n",
    "    cval_queue = deque([0]*size_in_blocks, size_in_blocks)\n",
    "    txs_queue = deque([0]*size_in_blocks, size_in_blocks)\n",
    "    unsigned_txs_queue = deque([0]*size_in_blocks, size_in_blocks)\n",
    "    \n",
    "    queues = {\n",
    "        'fee':fee_queue,\n",
    "        'block_pow':block_pow_queue,\n",
    "        'cval':cval_queue,\n",
    "        'txs_count':txs_queue,\n",
    "        'unsigned_txs':unsigned_txs_queue\n",
    "    } \n",
    "    \n",
    "    metrics = {\n",
    "        'fee':{'avg':0, 'min':np.inf, 'max':-np.inf, 'sum':0},\n",
    "        'block_pow':{'tau':600, 'avg':0, 'min':np.inf, 'max':-np.inf, 'sum':600*size_in_blocks},\n",
    "        'cval':{'avg':0, 'min':np.inf, 'max':-np.inf, 'sum':0},\n",
    "        'txs_count':{'avg':0, 'min':np.inf, 'max':-np.inf, 'sum':0},\n",
    "        'unsigned_txs':{'avg':0, 'min':np.inf, 'max':-np.inf, 'sum':0}\n",
    "    }\n",
    "    \n",
    "    metrics_dict = {\n",
    "        'queues': queues,\n",
    "        'metrics': metrics,\n",
    "        'size':size_in_blocks,\n",
    "    }\n",
    "    \n",
    "    return metrics_dict"
   ]
  },
  {
   "cell_type": "code",
   "execution_count": 29,
   "metadata": {},
   "outputs": [],
   "source": [
    "heights = get_blocks_heights_in_last_n_hours(2)"
   ]
  },
  {
   "cell_type": "code",
   "execution_count": 38,
   "metadata": {},
   "outputs": [],
   "source": [
    "metrics = initialize_metrics(5)"
   ]
  },
  {
   "cell_type": "code",
   "execution_count": 42,
   "metadata": {},
   "outputs": [],
   "source": [
    "def update_metrics(old_metrics: dict, new_blocks_heights: list):\n",
    "    \n",
    "        \n",
    "    def get_name(variable):\n",
    "\n",
    "#         for fi in reversed(inspect.stack()):\n",
    "#             names = [var_name for var_name, var_val in fi.frame.f_locals.items() if var_val is var]\n",
    "#             if len(names) > 0:\n",
    "#                 return names[0]\n",
    "#         return (list(globals().keys()))[list(map(lambda x: id(x), list(globals().values()))).index(id(variable))]\n",
    "        return(Retriever(variable))\n",
    "            \n",
    "    def get_unsigned_transaction_number():\n",
    "    \n",
    "        response = requests.get(url=\"https://blockchain.info/q/unconfirmedcount\")\n",
    "        count = json.loads(response.text)\n",
    "\n",
    "        return count\n",
    "    \n",
    "    def get_block_info(block_height: int):\n",
    "    \n",
    "        url = 'https://api.blockchair.com/bitcoin/blocks?q=id(' + str(block_height) + ')'\n",
    "\n",
    "        response = requests.get(url=url)\n",
    "        json_data = json.loads(response.text)\n",
    "        block = json_data['data'][0]\n",
    "\n",
    "        # for Average interval between blocks pow\n",
    "        time = datetime.strptime(block['time'],'%Y-%m-%d %H:%M:%S')\n",
    "        # Miners fees\n",
    "        fee = (block['fee_total'], block['fee_total_usd'])\n",
    "        # Number of Transactions in a block\n",
    "        txs_count = block['transaction_count']\n",
    "        # Crypto-value in a block\n",
    "        input_total = (block['input_total'],block['input_total_usd'])\n",
    "\n",
    "        result = {\n",
    "            'time':time,\n",
    "#             'fee':{\n",
    "#                 'satoshi':fee[0],\n",
    "#                 'usd':fee[1]\n",
    "#             },\n",
    "            'fee':fee[0],\n",
    "            'txs_count':txs_count,\n",
    "#             'input_total':{\n",
    "#                 'satoshi':input_total[0],\n",
    "#                 'usd':input_total[1]\n",
    "#             }\n",
    "            'input_total':input_total[0]\n",
    "        }\n",
    "\n",
    "        return result\n",
    "\n",
    "\n",
    "    def update_metrics_dict(new_metrics: list, metrics_dict:dict):\n",
    "\n",
    "        name_map = {\n",
    "            'fee':{'queues':'fee', 'metrics':'fee'},\n",
    "            'time':{'queues':'block_pow', 'metrics':'block_pow'},\n",
    "            'inpit_total':{'queues':'cval', 'metrics':'cval'},\n",
    "            'txs_count':{'queues':'txs_count', 'metrics':'txs_count'},\n",
    "            'unsigned_txs':{'queues':'unsigned_txs', 'metrics':'unsigned_txs'}\n",
    "        }\n",
    "        \n",
    "        metrics_names_list = ['fee', 'time', 'inpit_total', 'txs_count', 'unsigned_txs']\n",
    "        \n",
    "\n",
    "        for idx, metric in enumerate(new_metrics):\n",
    "\n",
    "            metric_name = metrics_names_list[idx]\n",
    "            queue_name_map = name_map[metric_name]['queues']\n",
    "            metric_name_map = name_map[metric_name]['metrics']\n",
    "            metrics = metrics_dict['metrics'][metric_name_map]\n",
    "            size = metrics_dict['size']\n",
    "\n",
    "            poped = metrics_dict['queues'][queue_name_map].popleft()\n",
    "            metrics_dict['queues'][queue_name_map].append(metric)\n",
    "            metrics['sum'] -= poped\n",
    "            metrics['sum'] += metric\n",
    "            if metric < metrics['min']: \n",
    "                metrics['min'] = metric\n",
    "            if metric > metrics['max']:\n",
    "                metrics['max'] = metric\n",
    "            metrics['avg'] = metrics['sum'] / size\n",
    "\n",
    "            if 'tau' in metrics.keys():\n",
    "\n",
    "                tau = metrics['tau']\n",
    "                \n",
    "                denominator = size / tau\n",
    "                denominator += (1/metric - 1/poped)\n",
    "                tau = size / denominator\n",
    "\n",
    "                metrics['tau'] = tau\n",
    "\n",
    "            metrics_dict['metrics'][metric_name_map] = metrics\n",
    "\n",
    "        return metrics_dict\n",
    "\n",
    "\n",
    "    for block_height in sorted(new_blocks_heights, reverse=False):\n",
    "        \n",
    "        print(block_height)\n",
    "        \n",
    "        block_info = get_block_info(block_height)\n",
    "        \n",
    "        fee = block_info['fee']\n",
    "        time = (block_info['time'] - get_block_info(block_height-1)['time']).seconds\n",
    "        inpit_total = block_info['input_total']\n",
    "        txs_count = block_info['txs_count']\n",
    "        unsigned_txs = get_unsigned_transaction_number()\n",
    "        \n",
    "        new_metrics = [fee, time, inpit_total, txs_count, unsigned_txs]\n",
    "        \n",
    "        updated_metrics_dict = update_metrics_dict(new_metrics, old_metrics)\n",
    "        \n",
    "    return updated_metrics_dict\n",
    "        \n",
    "    "
   ]
  },
  {
   "cell_type": "code",
   "execution_count": 40,
   "metadata": {},
   "outputs": [
    {
     "name": "stdout",
     "output_type": "stream",
     "text": [
      "615654\n",
      "0.008333333333333333 0.0005252100840336134 0.0016666666666666668\n",
      "0.0071918767507002795 695.2288218111004\n",
      "615655\n",
      "0.0071918767507002795 0.0008496176720475786 0.0016666666666666668\n",
      "0.006374827756081191 784.3349171638888\n",
      "615656\n",
      "0.006374827756081191 0.0011086474501108647 0.0016666666666666668\n",
      "0.005816808539525389 859.5778881193784\n",
      "615657\n",
      "0.005816808539525389 0.0008453085376162299 0.0016666666666666668\n",
      "0.004995450410474953 1000.9107466096565\n",
      "615658\n",
      "0.004995450410474953 0.0037593984962406013 0.0016666666666666668\n",
      "0.007088182240048887 705.3994706498285\n",
      "615659\n",
      "0.007088182240048886 0.0010718113612004287 0.0005252100840336134\n",
      "0.007634783517215702 654.8974163740834\n",
      "615660\n",
      "0.007634783517215702 0.005747126436781609 0.0008496176720475786\n",
      "0.012532292281949731 398.9693096450921\n",
      "615661\n",
      "0.012532292281949731 0.01282051282051282 0.0011086474501108647\n",
      "0.02424415765235169 206.235253527771\n",
      "615662\n",
      "0.02424415765235169 0.00129366106080207 0.0008453085376162299\n",
      "0.02469251017553753 202.49055136376614\n",
      "615663\n",
      "0.02469251017553753 0.0022123893805309734 0.0037593984962406013\n",
      "0.023145501059827902 216.02470333546444\n"
     ]
    }
   ],
   "source": [
    "updated = update_metrics(metrics, heights)"
   ]
  },
  {
   "cell_type": "code",
   "execution_count": 41,
   "metadata": {},
   "outputs": [
    {
     "data": {
      "text/plain": [
       "{'queues': {'fee': deque([19248652, 15030892, 10560682, 18028012, 15206193]),\n",
       "  'block_pow': deque([933, 174, 78, 773, 452]),\n",
       "  'cval': deque([650724388913,\n",
       "         376452494839,\n",
       "         239892495224,\n",
       "         400329241164,\n",
       "         249217147309]),\n",
       "  'txs_count': deque([2874, 2364, 2070, 2499, 1934]),\n",
       "  'unsigned_txs': deque([10071, 10071, 10071, 10071, 10071])},\n",
       " 'metrics': {'fee': {'avg': 15614886.2,\n",
       "   'min': 10560682,\n",
       "   'max': 75705553,\n",
       "   'sum': 78074431},\n",
       "  'block_pow': {'tau': 216.02470333546444,\n",
       "   'avg': 482.0,\n",
       "   'min': 78,\n",
       "   'max': 1904,\n",
       "   'sum': 2410},\n",
       "  'cval': {'avg': 383323153489.8,\n",
       "   'min': 239892495224,\n",
       "   'max': 1210569201846,\n",
       "   'sum': 1916615767449},\n",
       "  'txs_count': {'avg': 2348.2, 'min': 980, 'max': 2874, 'sum': 11741},\n",
       "  'unsigned_txs': {'avg': 10071.0, 'min': 5975, 'max': 10071, 'sum': 50355}},\n",
       " 'size': 5}"
      ]
     },
     "execution_count": 41,
     "metadata": {},
     "output_type": "execute_result"
    }
   ],
   "source": [
    "updated"
   ]
  },
  {
   "cell_type": "code",
   "execution_count": null,
   "metadata": {},
   "outputs": [],
   "source": []
  },
  {
   "cell_type": "code",
   "execution_count": null,
   "metadata": {},
   "outputs": [],
   "source": []
  },
  {
   "cell_type": "markdown",
   "metadata": {},
   "source": [
    "# Unused "
   ]
  },
  {
   "cell_type": "code",
   "execution_count": 23,
   "metadata": {},
   "outputs": [],
   "source": [
    "def get_block_info(block_height: int):\n",
    "    \n",
    "    url = 'https://api.blockchair.com/bitcoin/blocks?q=id(' + str(block_height) + ')'\n",
    "\n",
    "    response = requests.get(url=url)\n",
    "    json_data = json.loads(response.text)\n",
    "    block = json_data['data'][0]\n",
    "\n",
    "    # for Average interval between blocks pow\n",
    "    time = datetime.strptime(block['time'],'%Y-%m-%d %H:%M:%S')\n",
    "    # Miners fees\n",
    "    fee = (block['fee_total'], block['fee_total_usd'])\n",
    "    # Number of Transactions in a block\n",
    "    txs_count = block['transaction_count']\n",
    "    # Crypto-value in a block\n",
    "    input_total = (block['input_total'],block['input_total_usd'])\n",
    "\n",
    "    result = {\n",
    "        'time':time,\n",
    "        'fee':{'satoshi':fee[0],'usd':fee[1]},\n",
    "        'txs_count':txs_count,\n",
    "        'input_total':{'satoshi':input_total[0],\n",
    "        'usd':input_total[1]}\n",
    "    }\n",
    "\n",
    "    return result\n",
    "\n"
   ]
  },
  {
   "cell_type": "code",
   "execution_count": 34,
   "metadata": {},
   "outputs": [],
   "source": [
    "block_info = get_block_info(615650)\n",
    "time2 = block_info['time']"
   ]
  },
  {
   "cell_type": "code",
   "execution_count": 36,
   "metadata": {},
   "outputs": [
    {
     "data": {
      "text/plain": [
       "36"
      ]
     },
     "execution_count": 36,
     "metadata": {},
     "output_type": "execute_result"
    }
   ],
   "source": [
    "(block_info['time'] - get_block_info(615649)['time']).seconds"
   ]
  },
  {
   "cell_type": "code",
   "execution_count": 33,
   "metadata": {},
   "outputs": [
    {
     "data": {
      "text/plain": [
       "277"
      ]
     },
     "execution_count": 33,
     "metadata": {},
     "output_type": "execute_result"
    }
   ],
   "source": [
    "z.seconds"
   ]
  },
  {
   "cell_type": "code",
   "execution_count": 5,
   "metadata": {},
   "outputs": [],
   "source": [
    "def update_metrics(new_data:dict, times: tuple, data: dict, metrics:dict, unsigned_txs_val):\n",
    "    # all inputs exept new_data are dqueues with data in them\n",
    "    #previuos_data is miners_fees_queue,block_pow_queue,block_trans_amaount_queue,cr_value_queue,unsigned_transactions\n",
    "    #previous_metrics are metrics\n",
    "    # store metrics data, so no need to calculate every time (previuos_metrics element)\n",
    "    first_block_time , last_block_time = times\n",
    "    for key in sorted(new_data.keys()):\n",
    "        time = new_data[key]['time']\n",
    "        if first_block_time == time: continue\n",
    "        data = new_data[key]\n",
    "        \n",
    "    def update(new_data:dict, data:dict, previous_metrics:dict, last_block_time, unsigned_txs_val):\n",
    "#         poped_fee = metrics['fees_queue'].popleft()\n",
    "        time = new_data['time']\n",
    "        block_time = time - last_block_time\n",
    "        \n",
    "        pop_insert_map_dict = {\n",
    "                    'fee':'fees_queue',\n",
    "                    'txs_count':'txs_count_queue',\n",
    "                    'input_total':'cval_queue',\n",
    "                    'block_time':'block_pow_queue',\n",
    "                    'unsigned_txs_val':'unsigned_txs_queue'\n",
    "                   }\n",
    "        \n",
    "        def pop_insert(new_data, data, block_time, unsigned_txs_val, pop_insert_map_dict):\n",
    "            poped = dict\n",
    "            new_data['block_time'] = block_time\n",
    "            new_data['unsigned_txs_val'] = unsigned_txs_val\n",
    "            for key, value in map_dict.items():\n",
    "                poped[value] = data[value].popleft()\n",
    "                data[value].append(new_data[key])\n",
    "                \n",
    "            return poped, data\n",
    "        \n",
    "        calculate_map_dict={\n",
    "                'fees_queue':'miners_fees',\n",
    "                'txs_queue':'block_txs_count',\n",
    "                'cval_queue':'crval',\n",
    "                'block_pow_queue':'block_pow',\n",
    "                'unsigned_txs_queue':'unsigned_txs'\n",
    "                }\n",
    "        \n",
    "        def calculate(poped, previous_metrics, map_dict, queues):\n",
    "            for key, value in poped.items():\n",
    "                queue = queues[key]\n",
    "                process_metric(value, previous_metrics, queue)\n",
    "            # {'tau':0, 'avg':0,'min':np.inf,'max':-np.inf, 'sum':0},\n",
    "            def process_metric(poped_value, metric:dict, queue:deque):\n",
    "                metric['sum'] -= poped_value\n",
    "                unseen_element = queue[-1]\n",
    "                metric['sum'] += unseen_element\n",
    "                if unseen_element > metric['max']: metric['max'] = unseen_element\n",
    "                if unseen_element < metric['min']: metric['min'] = unseen_element\n",
    "                avg = np.mean(queue)\n",
    "                metric['tau'] = calculate_tau(queue)\n",
    "                \n",
    "                return metric\n",
    "            \n",
    "                def calculate_tau(queue):\n",
    "                    numerator = len(queue)\n",
    "                    denominator = 0\n",
    "                    for element in queue:\n",
    "                        denominator += 1 / element\n",
    "                return numerator / denominator\n",
    "        \n",
    "        metrics['fees_queue'].append(new_data['fee'])        \n",
    "        \n",
    "        \n",
    "\n",
    "        metrics['block_pow_queue'].append(block_time)\n",
    "        metrics['block_txs_amount_queue'].append(new_data['txs_count'])\n",
    "        metrics['cval_queue'].append(new_data['input_total'])\n",
    "        metrics['txs_queue'].append(new_data['txs_count'])\n",
    "        # do i need value of unsigned trans???? \n",
    "        \n",
    "        ## TODO update metrics\n",
    "        metrics['last_block_index'] = key\n",
    "        fee = metrics['miners_fees'].popleft()\n",
    "        \n",
    "        "
   ]
  },
  {
   "cell_type": "code",
   "execution_count": 70,
   "metadata": {},
   "outputs": [],
   "source": [
    "a = deque([1,2,3],3)"
   ]
  },
  {
   "cell_type": "code",
   "execution_count": 72,
   "metadata": {},
   "outputs": [],
   "source": [
    "a.append(8)"
   ]
  },
  {
   "cell_type": "code",
   "execution_count": 73,
   "metadata": {},
   "outputs": [
    {
     "data": {
      "text/plain": [
       "4.333333333333333"
      ]
     },
     "execution_count": 73,
     "metadata": {},
     "output_type": "execute_result"
    }
   ],
   "source": [
    "np.mean(a)"
   ]
  },
  {
   "cell_type": "code",
   "execution_count": 36,
   "metadata": {},
   "outputs": [],
   "source": [
    "a = {'e':[3,4]}"
   ]
  },
  {
   "cell_type": "code",
   "execution_count": 37,
   "metadata": {},
   "outputs": [],
   "source": [
    "a['e'].append(5)"
   ]
  },
  {
   "cell_type": "code",
   "execution_count": 38,
   "metadata": {},
   "outputs": [
    {
     "data": {
      "text/plain": [
       "[3, 4, 5]"
      ]
     },
     "execution_count": 38,
     "metadata": {},
     "output_type": "execute_result"
    }
   ],
   "source": [
    "a['e']"
   ]
  },
  {
   "cell_type": "code",
   "execution_count": 7,
   "metadata": {},
   "outputs": [],
   "source": [
    "def calculate_time_delta(date1, date2):\n",
    "    return (date1 - date2).total_seconds()"
   ]
  },
  {
   "cell_type": "code",
   "execution_count": 8,
   "metadata": {},
   "outputs": [],
   "source": [
    "def calculate_tau(queue):\n",
    "    numerator = len(queue)\n",
    "    denominator = 0\n",
    "    for element in queue:\n",
    "        denominator += 1 / element\n",
    "    return numerator / denominator"
   ]
  },
  {
   "cell_type": "code",
   "execution_count": 64,
   "metadata": {},
   "outputs": [
    {
     "data": {
      "text/plain": [
       "[4, 2, 1]"
      ]
     },
     "execution_count": 64,
     "metadata": {},
     "output_type": "execute_result"
    }
   ],
   "source": [
    "sorted([4,1,2],reverse=True)"
   ]
  },
  {
   "cell_type": "code",
   "execution_count": 26,
   "metadata": {},
   "outputs": [],
   "source": [
    "new_data, first_time, last_time = get_blockchain_info(2)"
   ]
  },
  {
   "cell_type": "code",
   "execution_count": 28,
   "metadata": {},
   "outputs": [
    {
     "data": {
      "text/plain": [
       "datetime.datetime(2019, 11, 6, 15, 25, 38)"
      ]
     },
     "execution_count": 28,
     "metadata": {},
     "output_type": "execute_result"
    }
   ],
   "source": [
    "first_time"
   ]
  },
  {
   "cell_type": "code",
   "execution_count": 17,
   "metadata": {
    "collapsed": true
   },
   "outputs": [
    {
     "data": {
      "text/plain": [
       "{'196f42aba2f819e2f28a3688980e55cae1c4a39bb4cfc8e353b246138edb6239': (1591864,\n",
       "  8136),\n",
       " '97d220a2ff9af685889074b05a82f4152e6433642b4f93fe78b1f096f446f979': (1958141,\n",
       "  4914),\n",
       " 'edaf3bde1ba11a988d6d3e6792efba818389633cb7f6a2ae426127f6b97403d4': (8864026,\n",
       "  11300),\n",
       " 'f19e74d5c8672b920530a4e5940a425f8e4cf6a8fcee07b2a0cc2625ab2d8b53': (11089617,\n",
       "  5401),\n",
       " '554096f90c407a4a0f34357af2f93a0bff80f5cec1ae34d312d37f8730fbc471': (33494557,\n",
       "  2486),\n",
       " '440967e1f8b88b08dab7f8bd903d000502295160dfcbfd07ac1b8bcfd1764bf1': (512764,\n",
       "  18180),\n",
       " '0d38ee5f95f49aeb7af1e6fbfc0217bd1616c2fecf5ca64ca4f07256471dd0cf': (195095547,\n",
       "  11707),\n",
       " '41f6e3673539ce705e2cef6f9bcc18cb386975fe9d40cc4d30ddc373cd28499a': (57267956,\n",
       "  11685),\n",
       " '19e59fd0c1376b2dda33479c78aeaa29992dc41e38c546ca4689f16ea254b687': (231169,\n",
       "  2497),\n",
       " '1987e810bd65b6f26576faff4592fe989aba4c3fdd41b606dc2ff96d030e7052': (79579,\n",
       "  4903),\n",
       " 'd0157c02c79373b267605581aeb67f78aa540dab930d517f4751f2e046cccd41': (118729952,\n",
       "  4278),\n",
       " '7098d1051d11803e4d541f4d987f2c5696b9d2605c1cd6198ea4d2e1dc58e7c2': (35698594,\n",
       "  8976),\n",
       " '1c5aa3caeb4f92374ad7b4a55d835f9277d702eb518353d597bc51a2b12e2af1': (932692,\n",
       "  11392),\n",
       " '88bc40608e6371a23341e6f5991c75d5d96d0b49271a83acfe9396efca049de6': (5094175,\n",
       "  2486),\n",
       " '41ee6bb37761e6290470e8332d24f07b2df2f1fb0c214066819273eb3be58204': (86135,\n",
       "  1135),\n",
       " '5a7384e5260bdfce375a64f6b239e02fc5bdd470ba0eab45090bbb714d69937e': (39000,\n",
       "  10014),\n",
       " '6e70daf4824630c629f3662ecb599278488ca1f06cd74804448d8c3e49bd7150': (1936829362,\n",
       "  50000),\n",
       " '73da584df6ea67a1e6c7370aa179cf974f45575ce69120f23b3bce1fb8d7f8b7': (739509,\n",
       "  9842),\n",
       " 'ff51b7fb2d56096b11a331c0bb2d12e1bbb5b13739a4295a244df82c5bbc9a54': (1235700,\n",
       "  14099),\n",
       " 'd67a610fce2b6a4b214c5507e38fba1b34b3a9190431312104c484fbe1d287e0': (7870,\n",
       "  2130),\n",
       " '3197ec6881f091bc10f7e7ce0b280cc1b30608bfda83012d3426b0611a38809a': (20546221,\n",
       "  4394),\n",
       " '241930d9486662b61e5ccf8d0b1ab1060252093cf35cde503d26fd52c5312568': (3667356,\n",
       "  8814),\n",
       " 'f0f322f6e028a4ab55e55085dceaf8dc23f15d52ee6fa642d4204fa43f8e7981': (27899,\n",
       "  2101),\n",
       " 'aa2120ec06d3fda1807d94d17c0ec884c76c784b1ee639b0196654346b4bf390': (643354639,\n",
       "  27556),\n",
       " '21486fc765b87a59e9c4b1829bb41396a76a8a6b88a5af6269519f0bd9e1c49e': (11645866,\n",
       "  13140),\n",
       " '1f3403eb1a91c0e6c0995d1e1b6a79f5cad8f8bc68c3100cbaecb1c7503f849e': (7103057,\n",
       "  2486),\n",
       " 'b4d0cb9dbf99d2b9eb77205b797a32832312d60ea2f7b2e8df3d94028591971a': (33819588,\n",
       "  2497),\n",
       " 'ab85fedd5df7b9b256ba26045560ccf576b14636b082b100b9273a60c002dbb8': (147687880,\n",
       "  17985),\n",
       " '13296d9cc1151779808cf4951ace59ef8e0f8e848eb385cafd1504542bd85732': (26612400,\n",
       "  9600),\n",
       " '9926f7c30dbd3714f18db3b92bfbecb0511c9c6a60df60657bad893d7c780105': (7467424,\n",
       "  8192),\n",
       " 'a411c1f3dd0166e894ce5859c7eb0f41d9a176e2905eb530ae4a4d225fc4afb1': (1942174,\n",
       "  8192),\n",
       " 'acd35fc2ec2dfff95d2906c91ba4d8a5904aec432af6ba198013e737b081e1c7': (512764,\n",
       "  18180),\n",
       " '711b3c17011a395f9b212eef1dbffb93509d88a687179bee85acc42347f79d30': (728320,\n",
       "  12544),\n",
       " '64123bf943c717f9332fa8d7bf603a5ef82d49c9503f3cf2fa707168997397e3': (68066,\n",
       "  4114),\n",
       " '7b5065c450fddcc0a2bef562298c0e9d2d07376a72b3698a44129fce4eb40601': (5225935,\n",
       "  2486),\n",
       " '2370eb86314b4c0298668500f920291254cd6f1cadf9b93adfb04865291f4174': (10646877,\n",
       "  2123),\n",
       " 'ce4e304b505938030f7e155885ec7c1923e54ae0d52d076ce4b748d72a5fca42': (3027401,\n",
       "  12267),\n",
       " '63d18c7f9b79cbfd005f4df4503302fbff707a505b6a771a6a2dadef4291f66c': (594898,\n",
       "  13555),\n",
       " 'ee966b937699b6934f5fcf644ffd41c4f502890569caff67e0eedae0f0d273ee': (1081355967,\n",
       "  31290),\n",
       " '8f7f3ed551e70bb22d41498b3961ee9b6e99cd245c16d36fa047e3a85aca19e0': (34161424,\n",
       "  33508),\n",
       " '58ecdee9fe4d7540e2d752d15a12323fd9fb1bd3903a14e0ab8639cc5fbf837a': (403743,\n",
       "  2101),\n",
       " 'd04056f8d02e168b3121407b0fec17878eb6cf0c6090c22852f578ccff246bb3': (917126,\n",
       "  6948),\n",
       " '2a1564e30dd397b8aafe9345bef804234b1f5c574ff7a3734f9333f4beec8fa6': (1284287,\n",
       "  6297),\n",
       " 'efa1bdf9952143e4cfef46b056f0cd52cd01d73d375a795d5ca3015201951b57': (27693827,\n",
       "  717),\n",
       " '49de6a8e7b52610753e4fe4352d381256ece12be59a08494ab11f5257d4d018d': (4369306,\n",
       "  6726),\n",
       " 'd81ef1f09fd27558123cdae27e4d7278d715a3eded2fd3aeb9487b65e01ce61f': (6275043,\n",
       "  6769),\n",
       " 'b44597555b63da73d69f8ad3f0f91949ab58f803c15241c066cff169ce2c71b7': (2442499641,\n",
       "  207100),\n",
       " '14c2712038a5a5e81349f254c7e4028a46ace91ef66625ff157d124101bb749e': (280970,\n",
       "  8136),\n",
       " 'a4107623fe8f36a04cf2c064cc7ae0dc944e8b2c853d367338e85ac3006bbc86': (2423365,\n",
       "  4895),\n",
       " 'f9e25c908d3e61856e26965ff8f5fc3355e13249edbc060414a75781a131128a': (511084,\n",
       "  2320),\n",
       " '5b1f21cf1f9a3412f0907d90a7c7e3a9b9bda9c86cb602366cdfe2e84f1764f0': (26159986,\n",
       "  99245),\n",
       " 'f1a803557422e624f030fcd9774ccc2af98716c34bae58887bb6628ddf733725': (16047921,\n",
       "  2079),\n",
       " 'c6f48877bc26837774ca9800a7ce2f64b4ae7041d9b28e5e1bbd9d209322997a': (7974731,\n",
       "  5766),\n",
       " '631de163c9737742468edd773e428d8c5a61924d0757e1f745a76f2fd0543a2e': (13483934,\n",
       "  6804),\n",
       " '23ee4edbd758e6ba9f256c0e57bf01c70a55f024d8c9df9d2fd2cf4e3061b946': (1727384,\n",
       "  12760),\n",
       " '9ddb9d2bf65c177c578df75401c07dbb9f3cb0fe206d159ec0be66cefcacb76c': (19941864,\n",
       "  8136),\n",
       " 'bf32b4f8e0dca3db2f484f000c8d576c479fb8fa4015ddda811277944710b9b1': (168273073,\n",
       "  10000),\n",
       " '3203e30247be97a81d977f0df18621ee2038b8a61edc6a7b31ab4fc56c1e9860': (191469,\n",
       "  8531),\n",
       " '11c9d8d6288d03d18adbc006c65ed80b2ba241d3260a2db11763bd8e4772a2c3': (1211980,\n",
       "  5775),\n",
       " '8b90b858c7fd6dfe651f82ff32794f35b638001a75aa0f7d0d5d5cb206473972': (177899,\n",
       "  2101),\n",
       " 'b95eee9b02292b8d5f36230c7d0961273c599bb5d8db3558a6bb570c6aad7d97': (1182348,\n",
       "  452),\n",
       " 'f1217c9532f65a531fdc01c7b9bd326567ac5115a28437ddb8083ba74d384913': (230494312,\n",
       "  45688),\n",
       " '132cc972e8dd2b1e800a192139c779e8bee8af63fad337dcfd2896d736974aad': (5077433,\n",
       "  6675),\n",
       " '82479f5d33ef24124efaaa9c8d9ca2054b5990c0a86bf5ce642a4b2586c58dc4': (19520087,\n",
       "  13555),\n",
       " '2f60770d96f43473bc6ef9dbb13dc70017525d73dd980fb53ee4aa51759e0942': (387647664,\n",
       "  5424),\n",
       " 'e5d16d01ba30798063ed25727010d83070077c92988c9821881cc6506c65b3ba': (546510,\n",
       "  4114),\n",
       " '2588014ed3f5d1c8af0de5bfc596316d015e094ec3c1ab2ada82dceb92614013': (9002908,\n",
       "  4903),\n",
       " '0e3dfbd13c4584f01832ec8d41184812fba1f17511c4282a9a20324eb1c6a153': (3855250,\n",
       "  2497),\n",
       " '1b5d2f0e418931f4ea744ee53ca2127364db44f2681d22694d80376efd746a12': (9819560,\n",
       "  5779),\n",
       " '08b028996a59033e45203b2590da37bd726f60fa1955110e1279f2397a6169bc': (103256,\n",
       "  4173),\n",
       " '48f387a52fb3e332587173715b4d86bc439e9db633a69f2733d3149b8c25d9e3': (3201356,\n",
       "  2838),\n",
       " '713057ee9900e4ad34c6a939d7501b8abd05eab4174e06aaa1acdd6723fbd233': (6689555,\n",
       "  6048),\n",
       " 'e2d3d1423fb80135eea078d4c0768ca7a5bf3a630ea5606c4a28fce7416f06d9': (543710,\n",
       "  13555),\n",
       " '6bbb640d323c5f00a8dbf87847b46b4940bf708b9a116db43b214ff5ec8c7126': (16443565,\n",
       "  4903),\n",
       " 'f0d4b14ad39cc41fc3caf1e2128ca05a4270f5094dd7997e6e1d26c42bf0e244': (8751866,\n",
       "  27550),\n",
       " 'c09bb5edac14d356f9a0ae3c289d4e75437e8fb1d40f3737a34df713f850ab86': (1995241,\n",
       "  8136),\n",
       " '0b6e96093157cfeff804ff7ccc3d20b2f1e74cb8a7d91be263877796d0f1ee2c': (7094446,\n",
       "  2486),\n",
       " '16defec2649013fd37cd50805c0d6bf4d0c7056c189287d9ed36c8b22ea38a24': (956193,\n",
       "  5355),\n",
       " '1b28423c9c731007c3929454dfaab1c1b13c5ed2e5cfee53c6504917143af954': (2340754,\n",
       "  5448),\n",
       " 'a862d51ee439d2275021ee5756776d5c3bd07c26c6519c3b2ce6537cbc77493e': (8086173,\n",
       "  8901),\n",
       " '3e304cff9e3ec75813a1be2489239112de7cff31e1cc3ce648d2b9982a01402f': (76176696,\n",
       "  8224),\n",
       " '869802435288cf487387bcac3f9265593ce6eee20fe5daedda12d18b4ab69f54': (1064510,\n",
       "  2123),\n",
       " 'ef5bd5ec0d8226eb0d8c68cd58e919415808e118f27ec93edef4fb8d00dd07df': (2042369,\n",
       "  21083),\n",
       " 'a02f906dc30bc930d8cb101fafafcad40e4d67e526af130255539abe15c640b7': (204262,\n",
       "  8148),\n",
       " '95667e2dd35f70703ea6ff9d065919e4b56708829bb6f5cc928c867f31e389ac': (7921340,\n",
       "  5697),\n",
       " '2b12161fb2310562ef0a309353d31791c9463a6f71f754f316df39049f16df5d': (5055240,\n",
       "  14100),\n",
       " '2880865fbf5a72db392e505b564c02c0efaee64c7283fb892a19507780bfe5c2': (954911,\n",
       "  2497),\n",
       " 'ab9aaf3c528bad64a1569f441bbf76d149adc2b95967224c3de331988a252b2d': (13891782,\n",
       "  8320),\n",
       " '68990cabe518f7f49d06f9e6bb2792537174b210f5a9a05796dd3b0fac35049d': (7581953,\n",
       "  5697),\n",
       " 'f5b8804947c252b419579ba6895cb97cfb6456e8b757dcf5efbec93cf7724571': (10144550,\n",
       "  5845),\n",
       " '99da1beb5379c56bfed999a1c4561146325a55f362f7da9757e5699bcf5fbf00': (4526534,\n",
       "  6136),\n",
       " '8ac9556e560ef9dc2a1e2ee999f247df0d1d495e3f4f23fcc0d49b519fc8b470': (623683,\n",
       "  5670),\n",
       " 'b10a57825151e09bd648235cd8228ea333b06b48f3f2720f0e2b1836d3b9bebc': (21688695,\n",
       "  4342),\n",
       " 'c65410ac0a3ee0acdacc7e3a0ce5385c220daddc9827988b1153dfc9b9121344': (253182854,\n",
       "  9270),\n",
       " 'cdf21496c117b3e805f8335495ed87958923d396cb3d9de46a5726f055b8d416': (160519389,\n",
       "  6595),\n",
       " 'a3bef36236467c614a48066f410bdd2c50b30d8bc89e389ff11d3a5c95c870b1': (595328,\n",
       "  286),\n",
       " 'dc0d00a477435f00d38f1818345a5184c311207307ca4e3e05087728f3ce671d': (3825921,\n",
       "  25278),\n",
       " 'ce2b8bb18f73dce3c871c6da6e42468be5baa9c13ef5c164568822fc2f9a0032': (53464,\n",
       "  5697),\n",
       " '6182b01641875957fb640d25e1eaa45d67b3b201114d3e1843ef7dddfb15ddcf': (3351453,\n",
       "  6940),\n",
       " '7132ed396db2651968d36daf9b4de3c7c31bba3cb41fd551bd0b68876c03c920': (5643,\n",
       "  13723)}"
      ]
     },
     "execution_count": 17,
     "metadata": {},
     "output_type": "execute_result"
    }
   ],
   "source": [
    "get_unsigned_transactions()"
   ]
  },
  {
   "cell_type": "code",
   "execution_count": null,
   "metadata": {},
   "outputs": [],
   "source": [
    "def calculate"
   ]
  },
  {
   "cell_type": "code",
   "execution_count": null,
   "metadata": {},
   "outputs": [],
   "source": [
    "def checker # depens on first_block_time or last"
   ]
  },
  {
   "cell_type": "code",
   "execution_count": 30,
   "metadata": {},
   "outputs": [],
   "source": [
    "# initiate all metrics as some values, not compute every time, just check, like:\n",
    "# if val>maxval => maxval = val ..."
   ]
  },
  {
   "cell_type": "code",
   "execution_count": 37,
   "metadata": {},
   "outputs": [],
   "source": [
    "def get_unsigned_transactions():\n",
    "    response = requests.get(url='https://api.bitaps.com/btc/v1/mempool/transactions')\n",
    "    json_data = json.loads(response.text)\n",
    "    transactions = json_data['data']['transactions']\n",
    "#     transactions_dict = dict()\n",
    "    total = 0\n",
    "    for transaction in transactions:\n",
    "        total += amount\n",
    "#         txId = transaction['txId']\n",
    "#         amount = transaction['amount']\n",
    "#         fee = transaction['fee']\n",
    "#         transactions_dict[txId] = (amount, fee)\n",
    "    transactions_dict['total'] = total\n",
    "    \n",
    "    return total"
   ]
  },
  {
   "cell_type": "code",
   "execution_count": 4,
   "metadata": {},
   "outputs": [],
   "source": [
    "# Rewrote as get_blocks_heights_in_last_n_hours(n)\n",
    "\n",
    "def get_blockchain_info(hours):\n",
    "    response = requests.get(url='https://api.bitaps.com/btc/v1/blockchain/blocks/last/'+str(hours)+'/hours')\n",
    "    json_data = json.loads(response.text)\n",
    "    data = json_data['data']\n",
    "    new_data = dict()\n",
    "    for element in data:\n",
    "        height = element['height']\n",
    "        new_data[height] = get_block_info(height)\n",
    "    first_block_time = new_data[sorted(new_data.keys(),reverse=False)[0]]['time']    \n",
    "    last_block_time = new_data[sorted(new_data.keys(),reverse=True)[0]]['time']\n",
    "    \n",
    "    \n",
    "    return new_data , first_block_time, last_block_time"
   ]
  },
  {
   "cell_type": "code",
   "execution_count": 6,
   "metadata": {},
   "outputs": [],
   "source": [
    "# Rewrote with the same name\n",
    "\n",
    "def initiate_metrics(size_in_hours):\n",
    "    # size is a tuple with miners_fees_queue_size, block_pow_queue_size, etc.\n",
    "    def calculate_queue_sizes(hours):\n",
    "        AVG_POW_IN_HOUR = 6\n",
    "        size = hours * AVG_POW_IN_HOUR \n",
    "        return size\n",
    "    q_sizes = calculate_queue_sizes(size_in_hours)\n",
    "    \n",
    "    fees_queue = deque([0], q_sizes)\n",
    "    block_pow_queue = deque([0], q_sizes)\n",
    "    crval_queue = deque([0], q_sizes)\n",
    "    txs_queue = deque([0], q_sizes)\n",
    "    unsigned_txs_queue = deque([0], q_sizes)\n",
    "    queues = {'fees_queue':miners_fees_queue,\n",
    "              'block_pow_queue':block_pow_queue,\n",
    "              'cval_queue':cval_queue,\n",
    "              'txs_count_queue':txs_queue,\n",
    "              'unsigned_txs_queue':unsigned_txs_queue} \n",
    "    metrics = {'last_block_index':0, #?\n",
    "               'miners_fees':{'tau':0, 'avg':0,'min':np.inf,'max':-np.inf, 'sum':0},\n",
    "               'block_pow':{'tau':0, 'avg':0,'min':np.inf,'max':-np.inf, 'sum':0},\n",
    "               'block_txs_count':{'tau':0, 'avg':0,'min':np.inf,'max':-np.inf, 'sum':0},\n",
    "               'crval':{'tau':0, 'avg':0,'min':np.inf,'max':-np.inf, 'sum':0},\n",
    "               'unsigned_txs':{'tau':0, 'avg':0,'min':np.inf,'max':-np.inf, 'sum':0}\n",
    "              }\n",
    "    \n",
    "    return (queues, metrics)"
   ]
  }
 ],
 "metadata": {
  "kernelspec": {
   "display_name": "Python 3",
   "language": "python",
   "name": "python3"
  },
  "language_info": {
   "codemirror_mode": {
    "name": "ipython",
    "version": 3
   },
   "file_extension": ".py",
   "mimetype": "text/x-python",
   "name": "python",
   "nbconvert_exporter": "python",
   "pygments_lexer": "ipython3",
   "version": "3.6.4"
  }
 },
 "nbformat": 4,
 "nbformat_minor": 2
}
